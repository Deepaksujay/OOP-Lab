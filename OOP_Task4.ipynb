{
  "nbformat": 4,
  "nbformat_minor": 0,
  "metadata": {
    "colab": {
      "name": "OOP-Task4.ipynb",
      "provenance": [],
      "authorship_tag": "ABX9TyOerzKWIWeXgy+FwUBoxgxg",
      "include_colab_link": true
    },
    "kernelspec": {
      "name": "python3",
      "display_name": "Python 3"
    },
    "language_info": {
      "name": "python"
    }
  },
  "cells": [
    {
      "cell_type": "markdown",
      "metadata": {
        "id": "view-in-github",
        "colab_type": "text"
      },
      "source": [
        "<a href=\"https://colab.research.google.com/github/Deepaksujay/OOP-Lab/blob/main/OOP_Task4.ipynb\" target=\"_parent\"><img src=\"https://colab.research.google.com/assets/colab-badge.svg\" alt=\"Open In Colab\"/></a>"
      ]
    },
    {
      "cell_type": "code",
      "metadata": {
        "colab": {
          "base_uri": "https://localhost:8080/"
        },
        "id": "qgzjDwBYvain",
        "outputId": "5c2a5d16-aa84-4e6d-de83-1b86cce04edc"
      },
      "source": [
        "#1 question - developing stack\n",
        "\n",
        "class node:\n",
        "  def __init__(self,value = None,next = None):\n",
        "    self.value = value\n",
        "    self.next = next\n",
        "  def __del__(self):\n",
        "    pass\n",
        "\n",
        "class Stack:\n",
        "  def __init__(self,value):\n",
        "    self.head = node(value)\n",
        "  def is_empty(self):\n",
        "    if self.head == None:\n",
        "      return 1\n",
        "    else:\n",
        "      return 0\n",
        "  def push(self,value):\n",
        "    new = node(value,self.head)\n",
        "    self.head = new\n",
        "  def pop(self):\n",
        "    pop = self.head\n",
        "    value = pop.value\n",
        "    self.head = self.head.next\n",
        "    del pop\n",
        "    return value\n",
        "  def display(self):\n",
        "    current = self.head\n",
        "    while current != None:\n",
        "      print(current.value)\n",
        "      current = current.next\n",
        "  def __del__(self):\n",
        "    print(\"Memory is deallocated\")\n",
        "\n",
        "stack = Stack(4)\n",
        "print(\"popped\",stack.pop())\n",
        "print(\"is empty\",stack.is_empty())\n",
        "stack.push(3)\n",
        "stack.push(2)\n",
        "stack.push(1)\n",
        "stack.display()\n",
        "print(\"poppped\",stack.pop())\n",
        "del stack\n",
        "  \n",
        "\n"
      ],
      "execution_count": 42,
      "outputs": [
        {
          "output_type": "stream",
          "name": "stdout",
          "text": [
            "popped 4\n",
            "is empty 1\n",
            "1\n",
            "2\n",
            "3\n",
            "poppped 1\n",
            "Memory is deallocated\n"
          ]
        }
      ]
    },
    {
      "cell_type": "code",
      "metadata": {
        "colab": {
          "base_uri": "https://localhost:8080/"
        },
        "id": "qI3K-ayTv6tN",
        "outputId": "cf9bafef-e389-4e88-a079-a8dc4cd83e8a"
      },
      "source": [
        "#2 question - finding area of a rectangle\n",
        "\n",
        "class rectangle:\n",
        "  def __init__(self,length,breadth):\n",
        "    self.len = length\n",
        "    self.b = breadth\n",
        "  def get_area_default(self):\n",
        "    return self.len*self.b\n",
        "  def get_area(self,len,bre):\n",
        "    return len*bre\n",
        "\n",
        "rec = rectangle(5,10)\n",
        "print(rec.get_area_default())\n",
        "print(rec.get_area(1,2))"
      ],
      "execution_count": 2,
      "outputs": [
        {
          "output_type": "stream",
          "name": "stdout",
          "text": [
            "50\n",
            "2\n"
          ]
        }
      ]
    },
    {
      "cell_type": "code",
      "metadata": {
        "colab": {
          "base_uri": "https://localhost:8080/"
        },
        "id": "8CdI1Hg0wjkS",
        "outputId": "5f952ce8-c0d9-47b8-e06c-dfcaa9a52c1d"
      },
      "source": [
        "#3 question - implementing queue\n",
        "\n",
        "class node:\n",
        "  def __init__(self,value,next = None):\n",
        "    self.value = value\n",
        "    self.next = next\n",
        "  def __del__(self):\n",
        "    pass\n",
        "\n",
        "class queue:\n",
        "  def __init__(self,value):\n",
        "    self.head = node(value)\n",
        "  def push(self,value):\n",
        "    new_node = node(value)\n",
        "    present = self.head\n",
        "    while present.next != None:\n",
        "      present = present.next\n",
        "    present.next = new_node\n",
        "  def display(self):\n",
        "    present = self.head\n",
        "    while present != None:\n",
        "      print(present.value)\n",
        "      present = present.next\n",
        "  def pop(self):\n",
        "    present = self.head\n",
        "    self.head = self.head.next\n",
        "    value = present.value\n",
        "    del present\n",
        "    return value\n",
        "       \n",
        "\n",
        "line = queue(3)\n",
        "line.push(4)\n",
        "line.push(5)\n",
        "line.push(6)\n",
        "line.display()\n",
        "print(\"popped value\",line.pop())\n",
        "line.display()\n",
        "print(\"popped value\",line.pop())\n",
        "line.display()\n"
      ],
      "execution_count": 30,
      "outputs": [
        {
          "output_type": "stream",
          "name": "stdout",
          "text": [
            "3\n",
            "4\n",
            "5\n",
            "6\n",
            "popped value 3\n",
            "4\n",
            "5\n",
            "6\n",
            "popped value 4\n",
            "5\n",
            "6\n"
          ]
        }
      ]
    }
  ]
}