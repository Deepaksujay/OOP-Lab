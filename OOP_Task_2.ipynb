{
  "nbformat": 4,
  "nbformat_minor": 0,
  "metadata": {
    "colab": {
      "name": "OOP-Task-2.ipynb",
      "provenance": [],
      "collapsed_sections": [],
      "authorship_tag": "ABX9TyPYJaXsFuEa/f0VLRaeNLwy",
      "include_colab_link": true
    },
    "kernelspec": {
      "name": "python3",
      "display_name": "Python 3"
    },
    "language_info": {
      "name": "python"
    }
  },
  "cells": [
    {
      "cell_type": "markdown",
      "metadata": {
        "id": "view-in-github",
        "colab_type": "text"
      },
      "source": [
        "<a href=\"https://colab.research.google.com/github/Deepaksujay/OOP-Lab/blob/main/OOP_Task_2.ipynb\" target=\"_parent\"><img src=\"https://colab.research.google.com/assets/colab-badge.svg\" alt=\"Open In Colab\"/></a>"
      ]
    },
    {
      "cell_type": "code",
      "metadata": {
        "colab": {
          "base_uri": "https://localhost:8080/"
        },
        "id": "YNRKNo_JhZ3z",
        "outputId": "de8d2bb1-01af-4ceb-8d2b-959c59e8076a"
      },
      "source": [
        "#1.circle class\n",
        "class circle:\n",
        "  def __init__(self,radius):\n",
        "    self.radius = radius\n",
        "    self.pi = 22/7\n",
        "  def get_area(self):\n",
        "    return self.pi*self.radius*self.radius\n",
        "  def get_perimeter(self):\n",
        "    return 2*self.radius*self.pi\n",
        "\n",
        "small = circle(7)\n",
        "print(small.get_area())\n",
        "print(small.get_perimeter())\n"
      ],
      "execution_count": null,
      "outputs": [
        {
          "output_type": "stream",
          "name": "stdout",
          "text": [
            "154.0\n",
            "44.0\n"
          ]
        }
      ]
    },
    {
      "cell_type": "code",
      "metadata": {
        "id": "TqMspzA6rYN5",
        "colab": {
          "base_uri": "https://localhost:8080/"
        },
        "outputId": "de4eb788-a19f-4e8b-e060-9b9baf78c728"
      },
      "source": [
        "#2.employee class\n",
        "\n",
        "def get_name():\n",
        "  return input(\"Enter Name of Faculty: \")\n",
        "\n",
        "def get_Emp_id():\n",
        "  return input(\"Enter Employee id: \")\n",
        "\n",
        "def get_branch():\n",
        "  return input(\"Enter branch: \")\n",
        "\n",
        "def get_salary():\n",
        "  return (int)(input(\"Enter salary of the faculty(in INR per month): \"))\n",
        "\n",
        "class Faculty:\n",
        "  def __init__(self):\n",
        "    self.name = get_name()\n",
        "    self.emp_id = get_Emp_id()\n",
        "    self.branch = get_branch()\n",
        "    self.salary = get_salary()\n",
        "  def get_data(self):\n",
        "    print(\"Name:\",self.name)\n",
        "    print(\"Employee id:\",self.emp_id)\n",
        "    print(\"branch:\",self.branch)\n",
        "    print(\"salary:\",self.salary)\n",
        "\n",
        "faculty_1 = Faculty()\n",
        "faculty_2 = Faculty()\n",
        "faculty_3 = Faculty()\n",
        "faculty_4 = Faculty()\n",
        "faculty_5 = Faculty()\n",
        "faculty_1.get_data()\n",
        "faculty_2.get_data()\n",
        "faculty_3.get_data()\n",
        "faculty_4.get_data()\n",
        "faculty_5.get_data()"
      ],
      "execution_count": null,
      "outputs": [
        {
          "output_type": "stream",
          "name": "stdout",
          "text": [
            "Enter Name of Faculty: Ramana Murthy\n",
            "Enter Employee id: Employee_87\n",
            "Enter branch: Nuzvid\n",
            "Enter salary of the faculty(in INR per month): 23000\n",
            "Enter Name of Faculty: Hinda siri\n",
            "Enter Employee id: Emp_98\n",
            "Enter branch: Vijayawada\n",
            "Enter salary of the faculty(in INR per month): 12000\n",
            "Enter Name of Faculty: Hari latha\n",
            "Enter Employee id: Empp_398\n",
            "Enter branch: Dharwad\n",
            "Enter salary of the faculty(in INR per month): 32112\n",
            "Enter Name of Faculty: Deepak Nanda\n",
            "Enter Employee id: emp12\n",
            "Enter branch: Nuzvid\n",
            "Enter salary of the faculty(in INR per month): 120000\n",
            "Enter Name of Faculty: MS Dhoni\n",
            "Enter Employee id: emp_07\n",
            "Enter branch: China\n",
            "Enter salary of the faculty(in INR per month): 23000\n",
            "Name: Ramana Murthy\n",
            "Employee id: Employee_87\n",
            "branch: Nuzvid\n",
            "salary: 23000\n",
            "Name: Hinda siri\n",
            "Employee id: Emp_98\n",
            "branch: Vijayawada\n",
            "salary: 12000\n",
            "Name: Hari latha\n",
            "Employee id: Empp_398\n",
            "branch: Dharwad\n",
            "salary: 32112\n",
            "Name: Deepak Nanda\n",
            "Employee id: emp12\n",
            "branch: Nuzvid\n",
            "salary: 120000\n",
            "Name: MS Dhoni\n",
            "Employee id: emp_07\n",
            "branch: China\n",
            "salary: 23000\n"
          ]
        }
      ]
    },
    {
      "cell_type": "code",
      "metadata": {
        "colab": {
          "base_uri": "https://localhost:8080/"
        },
        "id": "uKg_xh6hVSgj",
        "outputId": "504dfffb-b355-4386-8427-1d8176251127"
      },
      "source": [
        "#3.Banking system\n",
        "class Customer:\n",
        "  #amount = 0\n",
        "  def __init__(self,name,ac_no):\n",
        "    self.name = name\n",
        "    self.ac_no = ac_no\n",
        "    self.amount = 0\n",
        "  def deposit(self,money):\n",
        "    self.amount = self.amount + money\n",
        "    print(\"An amount of \",money,\"deposited successfully \")\n",
        "  def withdraw(self,money):\n",
        "    if self.amount < money:\n",
        "      print (\"No enough money\")\n",
        "    else:\n",
        "      self.amount = self.amount - money\n",
        "      print(\"An amount of \",money,\"withdrawn successfully \")\n",
        "  def check_balance(self):\n",
        "    print(\"Account Balance: \",self.amount)\n",
        "  def get_details(self):\n",
        "    print(\"Name: \",self.name)\n",
        "    print(\"Account No: \",self.ac_no)\n",
        "    print(\"Account Balance: \",self.amount)\n",
        "\n",
        "customer = Customer(\"Ram\",123092)\n",
        "customer.deposit(1000)\n",
        "customer.withdraw(2000)\n",
        "customer.withdraw(900)\n",
        "customer.check_balance()\n",
        "customer.deposit(200)\n",
        "customer.get_details()\n",
        "\n",
        "\n",
        "\n",
        "\n",
        "\n"
      ],
      "execution_count": null,
      "outputs": [
        {
          "output_type": "stream",
          "name": "stdout",
          "text": [
            "An amount of  1000 deposited successfully \n",
            "No enough money\n",
            "An amount of  900 withdrawn successfully \n",
            "Account Balance:  100\n",
            "An amount of  200 deposited successfully \n",
            "Name:  Ram\n",
            "Account No:  123092\n",
            "Account Balance:  300\n"
          ]
        }
      ]
    },
    {
      "cell_type": "code",
      "metadata": {
        "colab": {
          "base_uri": "https://localhost:8080/"
        },
        "id": "jck3Nt8kYlnA",
        "outputId": "14fe511a-5b33-409f-d407-a9a5c14c1122"
      },
      "source": [
        "#4.Student class\n",
        "\n",
        "def USN():\n",
        "  return (int)(input(\"Enter USN here: \"))\n",
        "\n",
        "class Student:\n",
        "  def __init__(self,name):\n",
        "    self.name = name\n",
        "    self.USN = USN()\n",
        "    self.marks = []\n",
        "  def insert_marks(self):\n",
        "    for i in range(1,4):\n",
        "      mark = (int)(input(f\"Enter marks of subject {i}: \"))\n",
        "      (self.marks).append(mark)\n",
        "  def get_marks(self):\n",
        "    print(self.marks)\n",
        "\n",
        "student_1 = Student('Rahul')  \n",
        "student_1.insert_marks()\n",
        "student_1.get_marks()\n",
        "\n",
        "\n",
        "\n",
        "\n",
        "\n"
      ],
      "execution_count": null,
      "outputs": [
        {
          "output_type": "stream",
          "name": "stdout",
          "text": [
            "Enter USN here: 1234\n",
            "Enter marks of subject 1: 98\n",
            "Enter marks of subject 2: 76\n",
            "Enter marks of subject 3: 87\n",
            "[98, 76, 87]\n"
          ]
        }
      ]
    },
    {
      "cell_type": "code",
      "metadata": {
        "colab": {
          "base_uri": "https://localhost:8080/"
        },
        "id": "HT7IX-kXf38E",
        "outputId": "c88801b0-736b-4068-baa8-f4810a910f4d"
      },
      "source": [
        "#5.Hospital\n",
        "\n",
        "def name():\n",
        "  return input(\"Name:\")\n",
        "\n",
        "def date_():\n",
        "  da = (str)(input(\"Date of Admission:\"))\n",
        "  return da\n",
        "\n",
        "def symptom():\n",
        "  list_ = []\n",
        "  l = (int)(input(\"Enter no of symptoms: \"))\n",
        "  for i in range (0,l):\n",
        "    sym = input(f\"symptom no-{i}: \")\n",
        "    list_.append(sym)\n",
        "  return list_\n",
        "\n",
        "def O_level():\n",
        "  return (int)(input(\"Oxygen level:\"))\n",
        "\n",
        "\n",
        "class Patient:\n",
        "  patients = 0\n",
        "  O_pat = 0\n",
        "  general_pat = 0\n",
        "  def __init__(self):\n",
        "    self.name = name()\n",
        "    date_d = ''\n",
        "    self.date_ = date_()\n",
        "    symptoms = symptom()\n",
        "    self.symptoms = symptoms\n",
        "    self.O_level = O_level()\n",
        "    Patient.patients = Patient.patients + 1\n",
        "  def check_oxygen(self):\n",
        "    if self.O_level < 90:\n",
        "      print(\"Oxygen required!\")\n",
        "      Patient.O_pat = Patient.O_pat + 1\n",
        "      return 1\n",
        "    else:\n",
        "      print(\"No oxygen is required\")\n",
        "      Patient.general_pat = Patient.general_pat + 1\n",
        "      return 0\n",
        "  def total_patients(self):\n",
        "    print(\"Total Patients admitted:\",Patient.patients)\n",
        "  def genral_patients(self):\n",
        "    print(\"Total Patients in general ward:\",Patient.general_pat)\n",
        "  def oxygen_patients(self):\n",
        "    print(\"Total Patients who required Oxygen:\",Patient.O_pat)\n",
        "  def discharge(self):\n",
        "    if self.check_oxygen():\n",
        "      Patient.O_pat = Patient.O_pat - 1\n",
        "    else:\n",
        "      Patient.general_pat = Patient.general_pat - 1\n",
        "    Patient.patients = Patient.patients - 1\n",
        "    self.date_d = input(\"Enter discharge date: \")\n",
        "    print(\"Patient discharged\")\n",
        "\n",
        "\n",
        "print(\"Patient 1:\")\n",
        "pa_1 = Patient()\n",
        "print(\"Patient 2:\")\n",
        "pa_2 = Patient()\n",
        "print(\"Patient 3:\")\n",
        "pa_3 = Patient()\n",
        "print(\"Patient 1:\")\n",
        "pa_1.check_oxygen()\n",
        "print(\"Patient 2:\")\n",
        "pa_2.check_oxygen()\n",
        "print(\"Patient 3:\")\n",
        "pa_3.check_oxygen()\n",
        "\n",
        "pa_1.total_patients()\n",
        "pa_1.genral_patients()\n",
        "pa_1.oxygen_patients()\n",
        "print(\"Patient 1:\")\n",
        "pa_1.discharge()\n",
        "print(pa_1.date_d)\n",
        "\n"
      ],
      "execution_count": null,
      "outputs": [
        {
          "output_type": "stream",
          "name": "stdout",
          "text": [
            "Patient 1:\n",
            "Name:Ram hind\n",
            "Date of Admission:10/9/2021\n",
            "Enter no of symptoms: 2\n",
            "symptom no-0: Fever\n",
            "symptom no-1: Cough\n",
            "Oxygen level:89\n",
            "Patient 2:\n",
            "Name:Chandan C\n",
            "Date of Admission:11/9/2021\n",
            "Enter no of symptoms: 1\n",
            "symptom no-0: Cold\n",
            "Oxygen level:91\n",
            "Patient 3:\n",
            "Name:Ramayya\n",
            "Date of Admission:11/9/2021\n",
            "Enter no of symptoms: 3\n",
            "symptom no-0: Headache\n",
            "symptom no-1: Bodypains\n",
            "symptom no-2: Dizziness\n",
            "Oxygen level:88\n",
            "Patient 1:\n",
            "Oxygen required!\n",
            "Patient 2:\n",
            "No oxygen is required\n",
            "Patient 3:\n",
            "Oxygen required!\n",
            "Total Patients admitted: 3\n",
            "Total Patients in general ward: 1\n",
            "Total Patients who required Oxygen: 2\n",
            "Patient 1:\n",
            "Oxygen required!\n",
            "Enter discharge date: 16/9/2021\n",
            "Patient discharged\n",
            "16/9/2021\n"
          ]
        }
      ]
    },
    {
      "cell_type": "code",
      "metadata": {
        "colab": {
          "base_uri": "https://localhost:8080/"
        },
        "id": "_XSJ256jlN9m",
        "outputId": "27a352be-3e72-42bb-fedd-88e14af7fe10"
      },
      "source": [
        "#6.time\n",
        "\n",
        "class time_0:\n",
        "  def __init__(self,hours=0,minutes=0,seconds=0):\n",
        "    self.hours = 0\n",
        "    self.minutes = 0\n",
        "    self.seconds = 0\n",
        "  def display(self):\n",
        "    print(f\"{self.hours}:{self.minutes}:{self.seconds}\")\n",
        "\n",
        "class time:\n",
        "  def __init__(self,hours,minutes,seconds):\n",
        "    self.hours = hours\n",
        "    self.minutes = minutes\n",
        "    self.seconds = seconds\n",
        "  def display(self):\n",
        "    print(f\"{self.hours}:{self.minutes}:{self.seconds}\")\n",
        "\n",
        "s = time(10,20,30)\n",
        "s_0 = time_0(10,20,30)\n",
        "s.display()\n",
        "s_0.display()\n"
      ],
      "execution_count": null,
      "outputs": [
        {
          "output_type": "stream",
          "name": "stdout",
          "text": [
            "10:20:30\n",
            "0:0:0\n"
          ]
        }
      ]
    },
    {
      "cell_type": "code",
      "metadata": {
        "colab": {
          "base_uri": "https://localhost:8080/"
        },
        "id": "8bb2UDpyo8hF",
        "outputId": "91fe2f05-e7cc-43c3-f3e7-088bdba3b791"
      },
      "source": [
        "#7 students\n",
        "class student:\n",
        "  def __init__(self,name,age,roll):\n",
        "    self.name = name\n",
        "    self.age = age\n",
        "    self.roll = roll\n",
        "\n",
        "def compare(a,b):\n",
        "  if a == b:\n",
        "    print(\"Both are equal\")\n",
        "  else:\n",
        "    print(\"Both are not equal\")\n",
        "\n",
        "stu_1 = student(\"Ram\",23,453)\n",
        "stu_2 = student(\"Chandan\",23,234)\n",
        "compare(stu_1.age,stu_2.age)"
      ],
      "execution_count": null,
      "outputs": [
        {
          "output_type": "stream",
          "name": "stdout",
          "text": [
            "Both are equal\n"
          ]
        }
      ]
    },
    {
      "cell_type": "code",
      "metadata": {
        "colab": {
          "base_uri": "https://localhost:8080/"
        },
        "id": "ZqmndV1nqH_y",
        "outputId": "0db9a1be-ee1e-4d02-f432-b507dc541d83"
      },
      "source": [
        "#8.\n",
        "class Student:\n",
        "  institute = \"IIIT Dharwad\"\n",
        "  sem = 3\n",
        "  def __init__(self,name,usn):\n",
        "    self.name = name\n",
        "    self.usn = usn\n",
        "  def inst(self):\n",
        "    print(self.name)\n",
        "    print(self.usn)\n",
        "\n",
        "\n",
        "s_1 = Student('ram',230)\n",
        "s_1.inst()\n",
        "print(s_1.institute)\n",
        "print(s_1.sem)\n"
      ],
      "execution_count": null,
      "outputs": [
        {
          "output_type": "stream",
          "name": "stdout",
          "text": [
            "ram\n",
            "230\n",
            "IIIT Dharwad\n",
            "3\n"
          ]
        }
      ]
    },
    {
      "cell_type": "code",
      "metadata": {
        "colab": {
          "base_uri": "https://localhost:8080/"
        },
        "id": "RM6iZ346Xp1R",
        "outputId": "6473381e-dce0-437f-856f-a4612368b204"
      },
      "source": [
        "#9.\n",
        "class student:\n",
        "  def __init__(self,name,roll_no,sem):\n",
        "    self.name = name\n",
        "    self.roll_no = roll_no\n",
        "    self.sem = sem\n",
        "    \n",
        "  def enter_laptop(self,cpu,ram,hard):\n",
        "    return self.laptop(cpu,ram,hard)\n",
        "\n",
        "  def details(self):\n",
        "    print(\"Name:\",self.name)\n",
        "    print(\"Roll No:\",self.roll_no) \n",
        "    print(\"Sem:\",self.sem)\n",
        "\n",
        "  class laptop:\n",
        "    def __init__(self,cpu,ram,hard_disk):\n",
        "      self.cpu = cpu\n",
        "      self.ram = ram\n",
        "      self.hard_disk = hard_disk\n",
        "    def display(self):\n",
        "      print(\"CPU:\",self.cpu)\n",
        "      print(\"Ram:\",self.ram)\n",
        "      print(\"Hard Disk:\",self.hard_disk)\n",
        "\n",
        "\n",
        "s1 = student(\"Ram\",230,3)\n",
        "s1.details()\n",
        "s1_lp1 = s1.enter_laptop(\"Intel i3\",\"8gb\",256)\n",
        "s1_lp2 = s1.enter_laptop(\"Intel i9\",\"16gb\",512)\n",
        "s1_lp1.display()\n",
        "s1_lp2.display()"
      ],
      "execution_count": 23,
      "outputs": [
        {
          "output_type": "stream",
          "name": "stdout",
          "text": [
            "Name: Ram\n",
            "Roll No: 230\n",
            "Sem: 3\n",
            "CPU: Intel i3\n",
            "Ram: 8gb\n",
            "Hard Disk: 256\n",
            "CPU: Intel i9\n",
            "Ram: 16gb\n",
            "Hard Disk: 512\n"
          ]
        }
      ]
    }
  ]
}