{
  "nbformat": 4,
  "nbformat_minor": 0,
  "metadata": {
    "colab": {
      "name": "OOP TASK-05.ipynb",
      "provenance": [],
      "authorship_tag": "ABX9TyM6Q10xNhEGBN1o5wJXvkc9",
      "include_colab_link": true
    },
    "kernelspec": {
      "name": "python3",
      "display_name": "Python 3"
    },
    "language_info": {
      "name": "python"
    }
  },
  "cells": [
    {
      "cell_type": "markdown",
      "metadata": {
        "id": "view-in-github",
        "colab_type": "text"
      },
      "source": [
        "<a href=\"https://colab.research.google.com/github/Deepaksujay/OOP-Lab/blob/main/OOP_TASK_05.ipynb\" target=\"_parent\"><img src=\"https://colab.research.google.com/assets/colab-badge.svg\" alt=\"Open In Colab\"/></a>"
      ]
    },
    {
      "cell_type": "code",
      "metadata": {
        "colab": {
          "base_uri": "https://localhost:8080/"
        },
        "id": "3aKvaXGtugbI",
        "outputId": "4a99e6e8-8d6d-4b00-f050-3633f44c8cac"
      },
      "source": [
        "#Question 01\n",
        "import math\n",
        "\n",
        "class Shape:\n",
        "  def __init__(self,shape):\n",
        "    self.shape = shape\n",
        "\n",
        "class Square(Shape):\n",
        "  def __init__(self,side):\n",
        "    Shape.__init__(self,\"Square\")\n",
        "    self.side = side\n",
        "  def area(self):\n",
        "    return (self.side)**2\n",
        "\n",
        "class Rectangle(Shape):\n",
        "  def __init__(self,l,b):\n",
        "    Shape.__init__(self,\"Rectangle\")\n",
        "    self.length = l\n",
        "    self.bredth = b\n",
        "  def area(self):\n",
        "    return self.length*self.bredth\n",
        "\n",
        "class Circle(Shape):\n",
        "  def __init__(self,radius):\n",
        "    Shape.__init__(self,\"Circle\")\n",
        "    self.radius = radius\n",
        "  def area(self):\n",
        "    return math.pi*(self.radius**2)\n",
        "\n",
        "obj1 = Square(2)\n",
        "obj2 = Rectangle(4,6)\n",
        "obj3 = Circle(3)\n",
        "print(obj1.shape)\n",
        "print(obj1.area())\n",
        "print(obj2.shape)\n",
        "print(obj2.area())\n",
        "print(obj3.shape)\n",
        "print(obj3.area())\n"
      ],
      "execution_count": 20,
      "outputs": [
        {
          "output_type": "stream",
          "name": "stdout",
          "text": [
            "Square\n",
            "4\n",
            "Rectangle\n",
            "24\n",
            "Circle\n",
            "28.274333882308138\n"
          ]
        }
      ]
    },
    {
      "cell_type": "code",
      "metadata": {
        "colab": {
          "base_uri": "https://localhost:8080/"
        },
        "id": "wkuofLNpuoOF",
        "outputId": "6c4aa95e-38b3-452a-aa9d-001cdb6447cd"
      },
      "source": [
        "#Question 02\n",
        "\n",
        "class Travel:\n",
        "  def __init__(self,no_of_passengers = None,distance_travelled = None,transportation = None):\n",
        "    self.__passengers = no_of_passengers\n",
        "    self.distance = distance_travelled\n",
        "    self.mode = transportation\n",
        "  def get_passengers(self):\n",
        "    return self.__passengers\n",
        "\n",
        "class Bus(Travel):\n",
        "  def __init__(self,passengers,distance):\n",
        "    Travel.__init__(self,passengers,distance,\"Bus\")\n",
        "    self.cost = 100\n",
        "  def total_cost(self):\n",
        "    return self.get_passengers() * self.cost\n",
        "\n",
        "class Train(Travel):\n",
        "  def __init__(self,passengers,distance):\n",
        "    Travel.__init__(self,passengers,distance,\"Train\")\n",
        "    self.cost = 60\n",
        "  def total_cost(self):\n",
        "    return self.get_passengers() * self.cost\n",
        "\n",
        "obj1 = Bus(5,400)\n",
        "print(obj1.mode)\n",
        "print(obj1.total_cost())\n",
        "obj2 = Train(5,400)\n",
        "print(obj2.mode)\n",
        "print(obj2.total_cost())"
      ],
      "execution_count": 34,
      "outputs": [
        {
          "output_type": "stream",
          "name": "stdout",
          "text": [
            "Bus\n",
            "500\n",
            "Train\n",
            "300\n"
          ]
        }
      ]
    },
    {
      "cell_type": "code",
      "metadata": {
        "colab": {
          "base_uri": "https://localhost:8080/"
        },
        "id": "dfqYp6r3uqbE",
        "outputId": "f643c37a-7ca3-4d75-bf73-f9387c74459f"
      },
      "source": [
        "#Question 03\n",
        "\n",
        "class Car:\n",
        "  def __init__(self,model_no):\n",
        "    self.model_no = model_no\n",
        "\n",
        "def swap_model_no(obj1,obj2):\n",
        "  variable = obj1.model_no\n",
        "  obj1.model_no = obj2.model_no\n",
        "  obj2.model_no = variable\n",
        "\n",
        "obj1 = Car(\"A5\")\n",
        "obj2 = Car(\"A3\")\n",
        "print(\"Obj1 model no:\",obj1.model_no)\n",
        "print(\"Obj2 model no:\",obj2.model_no)\n",
        "swap_model_no(obj1,obj2)\n",
        "print(\"Obj1 model no:\",obj1.model_no)\n",
        "print(\"Obj2 model no:\",obj2.model_no)\n"
      ],
      "execution_count": 22,
      "outputs": [
        {
          "output_type": "stream",
          "name": "stdout",
          "text": [
            "Obj1 model no: A5\n",
            "Obj2 model no: A3\n",
            "Obj1 model no: A3\n",
            "Obj2 model no: A5\n"
          ]
        }
      ]
    }
  ]
}