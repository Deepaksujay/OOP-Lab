{
  "nbformat": 4,
  "nbformat_minor": 0,
  "metadata": {
    "colab": {
      "name": "OOP-Task-3.ipynb",
      "provenance": [],
      "authorship_tag": "ABX9TyNNJ72+e2dBoCC9Gj3XEwYF",
      "include_colab_link": true
    },
    "kernelspec": {
      "name": "python3",
      "display_name": "Python 3"
    },
    "language_info": {
      "name": "python"
    }
  },
  "cells": [
    {
      "cell_type": "markdown",
      "metadata": {
        "id": "view-in-github",
        "colab_type": "text"
      },
      "source": [
        "<a href=\"https://colab.research.google.com/github/Deepaksujay/OOP-Lab/blob/main/OOP_Task_3.ipynb\" target=\"_parent\"><img src=\"https://colab.research.google.com/assets/colab-badge.svg\" alt=\"Open In Colab\"/></a>"
      ]
    },
    {
      "cell_type": "code",
      "metadata": {
        "colab": {
          "base_uri": "https://localhost:8080/"
        },
        "id": "bQlaj4gnlmR0",
        "outputId": "619ed298-e4c5-4ca7-f427-3482a003c289"
      },
      "source": [
        "class Student:\n",
        "  def __init__(self,name,reg_no,age,gender,branch,sem):\n",
        "    self.name = name\n",
        "    self.reg_no = reg_no\n",
        "    self.age = age\n",
        "    self.gender = gender\n",
        "    self.branch = branch\n",
        "    self.sem = sem\n",
        "\n",
        "  def basic_info(self):\n",
        "    print(\"Name:\",self.name)\n",
        "    print(\"Reg No:\",self.reg_no)\n",
        "    print(\"Age:\",self.age)\n",
        "    print(\"Gender:\",self.gender)\n",
        "    print(\"Branch:\",self.branch)\n",
        "    print(\"Present Semister:\",self.sem)\n",
        "\n",
        "class StudentResultInfo(Student):\n",
        "  def enter_marks(self,total_marks,percentage,grade):\n",
        "    self.total_marks = total_marks\n",
        "    self.percentage = percentage\n",
        "    self.grade = grade\n",
        "\n",
        "  def display_marks(self):\n",
        "    print(\"Total Marks:\",self.total_marks)\n",
        "    print(f\"Percentage: {self.percentage}%\")\n",
        "    print(\"Grade:\",self.grade)\n",
        "\n",
        "s_1 = StudentResultInfo(\"Ram\",\"20bcs189\",19,\"Male\",\"CSE\",3)\n",
        "s_1.enter_marks(80,80,\"B\")\n",
        "s_1.basic_info()\n",
        "s_1.display_marks()\n"
      ],
      "execution_count": 27,
      "outputs": [
        {
          "output_type": "stream",
          "name": "stdout",
          "text": [
            "Name: Ram\n",
            "Reg No: 20bcs189\n",
            "Age: 19\n",
            "Gender: Male\n",
            "Branch: CSE\n",
            "Present Semister: 3\n",
            "Total Marks: 80\n",
            "Percentage: 80%\n",
            "Grade: B\n"
          ]
        }
      ]
    },
    {
      "cell_type": "code",
      "metadata": {
        "colab": {
          "base_uri": "https://localhost:8080/"
        },
        "id": "6wtz8tyunD2i",
        "outputId": "f1d68c06-5fd5-4bbc-89d2-fa8671c6db74"
      },
      "source": [
        "class File:\n",
        "  def check_size(self):\n",
        "    THRESHOLD = 20 #in mb\n",
        "    if self.file_size > THRESHOLD:\n",
        "      return False\n",
        "    else :\n",
        "      return True\n",
        "\n",
        "  def check_dimensions(self):\n",
        "    if self.file == \"PDF\":\n",
        "      print(\"Not Applied\")\n",
        "      return False\n",
        "    dime_len = 500\n",
        "    dime_wid = 500\n",
        "    if self.dimensions_l > dime_len or self.dimensions_b > dime_wid:\n",
        "      return False\n",
        "    else:\n",
        "      return True\n",
        "\n",
        "  def file_details(self):\n",
        "    print(\"File Type:\",self.file)\n",
        "    self.display_details()\n",
        "    if self.file == \"Image\":\n",
        "      self.image_details()\n",
        "\n",
        "  def display_details(self):\n",
        "    print(\"Creator:\",self.creator)\n",
        "    print(\"Description:\",self.description)\n",
        "    print(\"File size:\",self.file_size)\n",
        "  \n",
        "  def image_details(self):\n",
        "    print(f\"Dimensions: {self.dimensions_l}X{self.dimensions_b}\")\n",
        "\n",
        "class Pdf(File):\n",
        "  def __init__(self,creator,description,file_size):\n",
        "    self.file = \"PDF\"\n",
        "    self.creator = creator\n",
        "    self.description = description\n",
        "    self.file_size = file_size\n",
        "\n",
        "\n",
        "class Image(File):\n",
        "  def __init__(self,creator,description,file_size,dimensions_l,dimensions_b):\n",
        "    self.file = \"Image\"\n",
        "    self.creator = creator\n",
        "    self.description = description\n",
        "    self.dimensions_l = dimensions_l\n",
        "    self.dimensions_b = dimensions_b\n",
        "    self.file_size = file_size\n",
        "\n",
        "  \n",
        "\n",
        "file = Pdf(\"Ram\",\"My pdf file\",21)\n",
        "file.file_details()\n",
        "print(file.check_size())\n",
        "\n",
        "file_ = Image(\"Ram\",\"My Image File\",21,400,500)\n",
        "file_.file_details()\n",
        "print(file_.check_size())\n",
        "print(file_.check_dimensions())\n",
        "\n",
        "\n"
      ],
      "execution_count": 17,
      "outputs": [
        {
          "output_type": "stream",
          "name": "stdout",
          "text": [
            "File Type: PDF\n",
            "Creator: Ram\n",
            "Description: My pdf file\n",
            "File size: 21\n",
            "False\n",
            "File Type: Image\n",
            "Creator: Ram\n",
            "Description: My Image File\n",
            "File size: 21\n",
            "Dimensions: 400X500\n",
            "False\n",
            "True\n"
          ]
        }
      ]
    },
    {
      "cell_type": "code",
      "metadata": {
        "colab": {
          "base_uri": "https://localhost:8080/"
        },
        "id": "dO0KB1EIpx0l",
        "outputId": "15315306-b4c6-4e51-9016-9f217115e69f"
      },
      "source": [
        "class Vehicle:\n",
        "  def __init__(self,name,mileage,capacity):\n",
        "    self.name = name\n",
        "    self.mileage = mileage\n",
        "    self.capacity = capacity\n",
        "\n",
        "  def fare(self):\n",
        "    fare = 100*self.capacity\n",
        "    if self.name == \"Bus\":\n",
        "      fare = 11 * fare /10\n",
        "    return fare\n",
        "\n",
        "  def get_details(self):\n",
        "    print(\"Vehicle Type:\",self.name)\n",
        "    print(\"Mileage:\",self.mileage)\n",
        "    print(\"Capacity:\",self.capacity)\n",
        "    print(\"Fare price:\",self.fare())\n",
        "\n",
        "class Bus(Vehicle):\n",
        "  def __init__(self,mileage):\n",
        "    self.mileage = mileage\n",
        "    super(Bus,self).__init__(\"Bus\",self.mileage,50)\n",
        "  \n",
        "\n",
        "v1 = Bus(30)\n",
        "v1.get_details()"
      ],
      "execution_count": 38,
      "outputs": [
        {
          "output_type": "stream",
          "name": "stdout",
          "text": [
            "Vehicle Type: Bus\n",
            "Mileage: 30\n",
            "Capacity: 50\n",
            "Fare price: 5500.0\n"
          ]
        }
      ]
    }
  ]
}