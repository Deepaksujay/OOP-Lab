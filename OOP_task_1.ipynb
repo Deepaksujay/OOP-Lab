{
  "nbformat": 4,
  "nbformat_minor": 0,
  "metadata": {
    "colab": {
      "name": "OOP-task-1.ipynb",
      "provenance": [],
      "authorship_tag": "ABX9TyMpJ5VNSOASTHVkV+lYWbT2",
      "include_colab_link": true
    },
    "kernelspec": {
      "name": "python3",
      "display_name": "Python 3"
    },
    "language_info": {
      "name": "python"
    }
  },
  "cells": [
    {
      "cell_type": "markdown",
      "metadata": {
        "id": "view-in-github",
        "colab_type": "text"
      },
      "source": [
        "<a href=\"https://colab.research.google.com/github/Deepaksujay/OOP-Lab/blob/main/OOP_task_1.ipynb\" target=\"_parent\"><img src=\"https://colab.research.google.com/assets/colab-badge.svg\" alt=\"Open In Colab\"/></a>"
      ]
    },
    {
      "cell_type": "code",
      "metadata": {
        "colab": {
          "base_uri": "https://localhost:8080/"
        },
        "id": "XQvRuKYu1fh-",
        "outputId": "e583273e-d836-4236-8289-ff45e84e0716"
      },
      "source": [
        "#1. Function to check whether a year is leap year or not\n",
        "def check_leap_year(year):\n",
        "  if year%4 == 0:\n",
        "    if year%100 == 0:\n",
        "      if year%400 == 0:\n",
        "        return True\n",
        "      else:\n",
        "        return False\n",
        "    return True\n",
        "  return False\n",
        "year = 1200\n",
        "print(\"year\",year)\n",
        "print(check_leap_year(year))\n",
        "year = 2004\n",
        "print(\"year\",year)\n",
        "print(check_leap_year(year))\n",
        "year = 1100\n",
        "print(\"year\",year)\n",
        "print(check_leap_year(year))"
      ],
      "execution_count": 64,
      "outputs": [
        {
          "output_type": "stream",
          "name": "stdout",
          "text": [
            "year 1200\n",
            "True\n",
            "year 2004\n",
            "True\n",
            "year 1100\n",
            "False\n"
          ]
        }
      ]
    },
    {
      "cell_type": "code",
      "metadata": {
        "colab": {
          "base_uri": "https://localhost:8080/"
        },
        "id": "PTfRFGeZ290_",
        "outputId": "6a74e994-6a64-4322-f02a-50a4a8950632"
      },
      "source": [
        "#2. Question\n",
        "def n_(n):\n",
        "  if n%2 == 1:\n",
        "    print(\"Weird\")\n",
        "  elif n%2 == 0:\n",
        "    if (n >= 2) and (n <=5):\n",
        "      print(\"Not weird\")\n",
        "    elif (n >= 6) and (n <= 20):\n",
        "      print(\"Weird\")\n",
        "    elif (n > 20):\n",
        "      print(\"Not weird\")\n",
        "\n",
        "n = (int)(input(\"Enter value of n:\"))\n",
        "n_(n)\n",
        "n = (int)(input(\"Enter value of n:\"))\n",
        "n_(n)\n",
        "n = (int)(input(\"Enter value of n:\"))\n",
        "n_(n)\n",
        "n = (int)(input(\"Enter value of n:\"))\n",
        "n_(n)"
      ],
      "execution_count": 66,
      "outputs": [
        {
          "output_type": "stream",
          "name": "stdout",
          "text": [
            "Enter value of n:21\n",
            "Weird\n",
            "Enter value of n:4\n",
            "Not weird\n",
            "Enter value of n:14\n",
            "Weird\n",
            "Enter value of n:26\n",
            "Not weird\n"
          ]
        }
      ]
    },
    {
      "cell_type": "code",
      "metadata": {
        "colab": {
          "base_uri": "https://localhost:8080/"
        },
        "id": "7yZHOOwX4dZ3",
        "outputId": "980faaca-acc3-4597-e366-9da58493fae9"
      },
      "source": [
        "#3. Question\n",
        "def late_arrivals(guests):\n",
        "  l = (int)(len(guests)/2)\n",
        "  late = []\n",
        "  while l != len(guests)-1:\n",
        "    late.append(guests[l])\n",
        "    l = l + 1\n",
        "  return late\n",
        "\n",
        "Arrivals = ['Hardik','Rahul','Virat','Rishab','Mahi','Rohit','Rahane']\n",
        "late_list = late_arrivals(Arrivals)\n",
        "print(late_list)\n"
      ],
      "execution_count": 25,
      "outputs": [
        {
          "output_type": "stream",
          "name": "stdout",
          "text": [
            "['Rishab', 'Mahi', 'Rohit']\n"
          ]
        }
      ]
    },
    {
      "cell_type": "code",
      "metadata": {
        "colab": {
          "base_uri": "https://localhost:8080/"
        },
        "id": "U7bVOPAq6t2-",
        "outputId": "32dd73c4-40af-47cf-9da5-db28a387991f"
      },
      "source": [
        "#4.Question\n",
        "\n",
        "def check_word(word,article,start):\n",
        "  end = start + len(word) - 1\n",
        "  if start != 1:\n",
        "    if article[start-1] == '.' or article[start-1] == ',' or article[start-1] == ' ':\n",
        "      if end != len(article)-1:\n",
        "        if article[end+1] == '.' or article[end+1] == ',' or article[end+1] == ' ':\n",
        "          return True\n",
        "        else:\n",
        "          return False\n",
        "      else:\n",
        "        return True\n",
        "    else:\n",
        "      return False\n",
        "  else:\n",
        "    if end != len(article)-1:\n",
        "      if article[end+1] == '.' or article[end+1] == ',' or article[end+1] == ' ':\n",
        "        return True\n",
        "      else:\n",
        "        return False\n",
        "    else:\n",
        "      return True\n",
        "\n",
        "def search_article(article,word):\n",
        "  for sentence in article:\n",
        "    if word.casefold() in sentence.casefold():\n",
        "      #print(\"main\",sentence)\n",
        "      #print(\"Index\",(sentence.casefold()).rindex(word.casefold()))\n",
        "      if check_word(word.casefold(),sentence.casefold(),(sentence.casefold()).rindex(word.casefold())):\n",
        "        print(sentence)\n",
        "\n",
        "doc_list = ['The Learn Python Challenge Rohit.','They bought a car','banglore']\n",
        "test = ['hi Raghave','hi raghave','hi Raghave.','hi craghave','bavunnara']\n",
        "word = input(\"Enter word here:\")\n",
        "search_article(doc_list,word)\n"
      ],
      "execution_count": 67,
      "outputs": [
        {
          "output_type": "stream",
          "name": "stdout",
          "text": [
            "Enter word here:the\n",
            "The Learn Python Challenge Rohit.\n"
          ]
        }
      ]
    },
    {
      "cell_type": "code",
      "metadata": {
        "colab": {
          "base_uri": "https://localhost:8080/"
        },
        "id": "pafs1PSI8IkC",
        "outputId": "8080ee59-f562-4f67-e8e8-71f31bf1740c"
      },
      "source": [
        "#5. Question\n",
        "def DA(BP):\n",
        "  return (40/100)*BP \n",
        "def HRA(BP):\n",
        "  return (20/100)*BP\n",
        "def GP(BP):\n",
        "  return BP + HRA(BP) + DA(BP)\n",
        "\n",
        "bp = (int)(input(\"Enter BP here:\"))\n",
        "print(\"BP:\",GP(bp))\n",
        "bp = (int)(input(\"Enter BP here:\"))\n",
        "print(\"BP:\",GP(bp))\n",
        "bp = (int)(input(\"Enter BP here:\"))\n",
        "print(\"BP:\",GP(bp))"
      ],
      "execution_count": 68,
      "outputs": [
        {
          "output_type": "stream",
          "name": "stdout",
          "text": [
            "Enter BP here:100\n",
            "BP: 160.0\n",
            "Enter BP here:140\n",
            "BP: 224.0\n",
            "Enter BP here:200\n",
            "BP: 320.0\n"
          ]
        }
      ]
    }
  ]
}